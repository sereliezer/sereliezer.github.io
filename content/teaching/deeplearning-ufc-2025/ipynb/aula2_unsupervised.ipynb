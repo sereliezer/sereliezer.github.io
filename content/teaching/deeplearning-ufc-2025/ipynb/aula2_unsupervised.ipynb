{
  "cells": [
    {
      "cell_type": "markdown",
      "source": [
        "<a href=\"https://colab.research.google.com/github/sereliezer/sereliezer.github.io/blob/master/content/teaching/deeplearning-ufc-2025/ipynb/aula2_unsupervised.ipynb\" target=\"_parent\"><img src=\"https://colab.research.google.com/assets/colab-badge.svg\" alt=\"Open In Colab\"/></a>"
      ],
      "metadata": {
        "id": "A8z75t2T1z-N"
      }
    },
    {
      "cell_type": "markdown",
      "metadata": {
        "id": "z9gApKXqBICR"
      },
      "source": [
        "# Aula 2 - Exemplo: PCA com Regra de Oja e Autoencoder Linear\n",
        "\n",
        "**Objetivo:** Implementar e comparar três métodos para encontrar o primeiro componente principal de um subconjunto de dados do MNIST (dígitos 9 e 1).\n",
        "\n",
        "---\n",
        "\n",
        "Neste exemplo, vamos conectar a teoria com a prática, explorando três visões diferentes do mesmo problema fundamental: encontrar a direção de máxima variância em um conjunto de dados. Usaremos:\n",
        "\n",
        "1.  **PCA (Scikit-learn):** A abordagem estatística clássica, que nos servirá como \"ground truth\".\n",
        "2.  **Regra de Oja (NumPy):** Uma regra de aprendizado neural, não-supervisionada e biologicamente inspirada.\n",
        "3.  **Autoencoder Linear (PyTorch):** Uma abordagem de aprendizado de representação baseada na otimização de um custo de reconstrução.\n",
        "\n",
        "Vamos ver como essas três perspectivas diferentes nos levam à mesma solução!"
      ]
    },
    {
      "cell_type": "code",
      "execution_count": null,
      "metadata": {
        "id": "Bhl98nJKBICX"
      },
      "outputs": [],
      "source": [
        "import numpy as np\n",
        "import matplotlib.pyplot as plt\n",
        "import torch\n",
        "import torch.nn as nn\n",
        "import torch.optim as optim\n",
        "from torch.utils.data import TensorDataset, DataLoader\n",
        "from torchvision.datasets import MNIST\n",
        "from torchvision.transforms import ToTensor\n",
        "from sklearn.decomposition import PCA\n",
        "\n",
        "# Configurações de estilo para os gráficos\n",
        "plt.style.use('seaborn-v0_8-whitegrid')\n",
        "plt.rcParams.update({'font.size': 14})"
      ]
    },
    {
      "cell_type": "markdown",
      "metadata": {
        "id": "SJ3XK02BBICY"
      },
      "source": [
        "## Passo 1: Carregamento e Preparação dos Dados\n",
        "\n",
        "Primeiro, vamos carregar o dataset MNIST, filtrar para manter apenas os dígitos 0 e 1, e pré-processá-los."
      ]
    },
    {
      "cell_type": "code",
      "execution_count": null,
      "metadata": {
        "colab": {
          "base_uri": "https://localhost:8080/"
        },
        "id": "wy6tOAYQBICY",
        "outputId": "f0837b50-f2a4-4aba-c25f-33e41041e915"
      },
      "outputs": [
        {
          "output_type": "stream",
          "name": "stderr",
          "text": [
            "100%|██████████| 9.91M/9.91M [00:00<00:00, 55.3MB/s]\n",
            "100%|██████████| 28.9k/28.9k [00:00<00:00, 1.70MB/s]\n",
            "100%|██████████| 1.65M/1.65M [00:00<00:00, 14.7MB/s]\n",
            "100%|██████████| 4.54k/4.54k [00:00<00:00, 5.68MB/s]"
          ]
        },
        {
          "output_type": "stream",
          "name": "stdout",
          "text": [
            "Formato dos dados: torch.Size([12691, 784])\n",
            "Número de amostras: 12691\n"
          ]
        },
        {
          "output_type": "stream",
          "name": "stderr",
          "text": [
            "\n"
          ]
        }
      ],
      "source": [
        "# Carregar o dataset MNIST\n",
        "train_data = MNIST(root='./data', train=True, download=True, transform=ToTensor())\n",
        "\n",
        "# Filtrar para manter apenas os dígitos 0 e 1\n",
        "mask = (train_data.targets == 9) | (train_data.targets == 1)\n",
        "data = train_data.data[mask].float() / 255.0  # Normalizar para [0, 1]\n",
        "labels = train_data.targets[mask]\n",
        "\n",
        "# Flatten das imagens (28x28 -> 784)\n",
        "data_flat = data.reshape(-1, 28 * 28)\n",
        "\n",
        "# Centralizar os dados (crucial para PCA)\n",
        "mean = data_flat.mean(axis=0)\n",
        "data_centered = data_flat - mean\n",
        "\n",
        "print(f\"Formato dos dados: {data_centered.shape}\")\n",
        "print(f\"Número de amostras: {len(data_centered)}\")"
      ]
    },
    {
      "cell_type": "markdown",
      "metadata": {
        "id": "962K5nt3BICY"
      },
      "source": [
        "## Método 1: PCA com Scikit-learn (Ground Truth)\n",
        "\n",
        "Vamos usar a implementação padrão do PCA para encontrar o primeiro componente principal. Este será nosso resultado de referência."
      ]
    },
    {
      "cell_type": "code",
      "execution_count": null,
      "metadata": {
        "colab": {
          "base_uri": "https://localhost:8080/"
        },
        "id": "js3JbKpHBICY",
        "outputId": "e7bd63d1-f9ae-4f45-8d54-cfa2513141c1"
      },
      "outputs": [
        {
          "output_type": "stream",
          "name": "stdout",
          "text": [
            "Formato do componente principal (Sklearn): (784,)\n"
          ]
        }
      ],
      "source": [
        "pca = PCA(n_components=1)\n",
        "pca.fit(data_centered.numpy())\n",
        "\n",
        "pc1_sklearn = pca.components_[0]\n",
        "print(f\"Formato do componente principal (Sklearn): {pc1_sklearn.shape}\")"
      ]
    },
    {
      "cell_type": "markdown",
      "metadata": {
        "id": "qOkUxDDMBICZ"
      },
      "source": [
        "## Método 2: Regra de Oja (NumPy)\n",
        "\n",
        "Agora, vamos implementar a regra de Oja do zero. A regra de atualização é:\n",
        "$$ \\Delta \\mathbf{w} = \\eta (y\\mathbf{x} - y^2\\mathbf{w}) $$\n",
        "Onde $y = \\mathbf{w}^T\\mathbf{x}$."
      ]
    },
    {
      "cell_type": "code",
      "execution_count": null,
      "metadata": {
        "colab": {
          "base_uri": "https://localhost:8080/"
        },
        "id": "O37JMOSQBICZ",
        "outputId": "e69a5636-32d9-4526-cf3f-d51f62e62054"
      },
      "outputs": [
        {
          "output_type": "stream",
          "name": "stdout",
          "text": [
            "Época Oja [1/5] completa.\n",
            "Época Oja [2/5] completa.\n",
            "Época Oja [3/5] completa.\n",
            "Época Oja [4/5] completa.\n",
            "Época Oja [5/5] completa.\n",
            "\n",
            "Formato do componente principal (Oja): (784,)\n"
          ]
        }
      ],
      "source": [
        "# Hiperparâmetros\n",
        "learning_rate_oja = 1e-4\n",
        "epochs_oja = 5\n",
        "\n",
        "# Inicialização dos pesos\n",
        "np.random.seed(42)\n",
        "w_oja = np.random.randn(784)\n",
        "w_oja = w_oja / np.linalg.norm(w_oja) # Normalizar para ter norma 1\n",
        "\n",
        "data_numpy = data_centered.numpy()\n",
        "\n",
        "# Loop de Treinamento\n",
        "for epoch in range(epochs_oja):\n",
        "    for x in data_numpy:\n",
        "        # Calcular a saída\n",
        "        y = np.dot(w_oja.T, x)\n",
        "\n",
        "        # Atualizar os pesos com a regra de Oja\n",
        "        delta_w = learning_rate_oja * (y * x - y**2 * w_oja)\n",
        "        w_oja += delta_w\n",
        "\n",
        "    # Opcional: Re-normalizar no final de cada época para estabilidade\n",
        "    w_oja = w_oja / np.linalg.norm(w_oja)\n",
        "\n",
        "    print(f\"Época Oja [{epoch+1}/{epochs_oja}] completa.\")\n",
        "\n",
        "pc1_oja = w_oja\n",
        "print(f\"\\nFormato do componente principal (Oja): {pc1_oja.shape}\")"
      ]
    },
    {
      "cell_type": "markdown",
      "metadata": {
        "id": "Wbzr9iewBICZ"
      },
      "source": [
        "## Método 3: Autoencoder Linear (PyTorch)\n",
        "\n",
        "Finalmente, vamos construir um autoencoder com uma única camada linear no encoder e no decoder. A camada latente terá dimensão 1. Treinaremos para minimizar o erro de reconstrução."
      ]
    },
    {
      "cell_type": "code",
      "execution_count": null,
      "metadata": {
        "colab": {
          "base_uri": "https://localhost:8080/"
        },
        "id": "ZFK-tu2yBICa",
        "outputId": "dc8bb6e4-de37-44ad-a337-6b8c17854f1c"
      },
      "outputs": [
        {
          "output_type": "stream",
          "name": "stdout",
          "text": [
            "Época AE [1/10], Custo Médio: 0.097876\n",
            "Época AE [2/10], Custo Médio: 0.037277\n",
            "Época AE [3/10], Custo Médio: 0.037180\n",
            "Época AE [4/10], Custo Médio: 0.037210\n",
            "Época AE [5/10], Custo Médio: 0.037312\n",
            "Época AE [6/10], Custo Médio: 0.037331\n",
            "Época AE [7/10], Custo Médio: 0.037566\n",
            "Época AE [8/10], Custo Médio: 0.037630\n",
            "Época AE [9/10], Custo Médio: 0.037641\n",
            "Época AE [10/10], Custo Médio: 0.037754\n",
            "\n",
            "Formato do componente principal (AE): (784,)\n"
          ]
        }
      ],
      "source": [
        "# Definir o modelo\n",
        "class LinearAutoencoder(nn.Module):\n",
        "    def __init__(self):\n",
        "        super().__init__()\n",
        "        self.encoder = nn.Linear(784, 1) # Entrada 784 -> Latente 1\n",
        "        self.decoder = nn.Linear(1, 784) # Latente 1 -> Saída 784\n",
        "\n",
        "    def forward(self, x):\n",
        "        z = self.encoder(x)\n",
        "        x_hat = self.decoder(z)\n",
        "        return x_hat\n",
        "\n",
        "# Hiperparâmetros\n",
        "# resultados ruins\n",
        "learning_rate_ae = 1e-3\n",
        "\n",
        "# bons resultados\n",
        "learning_rate_ae = 1e-1\n",
        "\n",
        "epochs_ae = 10\n",
        "batch_size_ae = 64\n",
        "\n",
        "# Preparar DataLoader\n",
        "dataset = TensorDataset(data_centered)\n",
        "dataloader = DataLoader(dataset, batch_size=batch_size_ae, shuffle=True)\n",
        "\n",
        "# Instanciar modelo, custo e otimizador\n",
        "model = LinearAutoencoder()\n",
        "criterion = nn.MSELoss()\n",
        "optimizer = optim.Adam(model.parameters(), lr=learning_rate_ae)\n",
        "\n",
        "# Loop de Treinamento\n",
        "for epoch in range(epochs_ae):\n",
        "    total_loss = 0\n",
        "    for batch in dataloader:\n",
        "        x = batch[0]\n",
        "\n",
        "        # Forward pass\n",
        "        x_hat = model(x)\n",
        "        loss = criterion(x_hat, x)\n",
        "\n",
        "        # Backward pass e otimização\n",
        "        optimizer.zero_grad()\n",
        "        loss.backward()\n",
        "        optimizer.step()\n",
        "\n",
        "        total_loss += loss.item()\n",
        "\n",
        "    avg_loss = total_loss / len(dataloader)\n",
        "    print(f\"Época AE [{epoch+1}/{epochs_ae}], Custo Médio: {avg_loss:.6f}\")\n",
        "\n",
        "# O componente principal é dado pelos pesos do decoder\n",
        "pc1_ae = model.decoder.weight.data.numpy().flatten()\n",
        "pc1_ae = pc1_ae / np.linalg.norm(pc1_ae) # Normalizar\n",
        "print(f\"\\nFormato do componente principal (AE): {pc1_ae.shape}\")"
      ]
    },
    {
      "cell_type": "markdown",
      "metadata": {
        "id": "0FyUi1IKBICa"
      },
      "source": [
        "## Passo 4: Comparação Visual dos Resultados\n",
        "\n",
        "Vamos agora visualizar os três componentes principais que aprendemos. Lembre-se que um autovetor é definido por sua direção, então $\\mathbf{v}$ e $-\\mathbf{v}$ são equivalentes. Vamos alinhar os vetores de Oja e do Autoencoder com o do Sklearn para uma comparação justa."
      ]
    },
    {
      "cell_type": "code",
      "execution_count": null,
      "metadata": {
        "colab": {
          "base_uri": "https://localhost:8080/",
          "height": 377
        },
        "id": "CyEVqjY_BICa",
        "outputId": "a455bfaf-a3bf-4d70-ceb7-0686d2723c3b"
      },
      "outputs": [
        {
          "output_type": "display_data",
          "data": {
            "text/plain": [
              "<Figure size 1800x600 with 3 Axes>"
            ],
            "image/png": "[encoded data removed]"
          },
          "metadata": {}
        }
      ],
      "source": [
        "# Alinhar os vetores (corrigir possível inversão de sinal)\n",
        "if np.dot(pc1_sklearn, pc1_oja) < 0:\n",
        "    pc1_oja *= -1\n",
        "\n",
        "if np.dot(pc1_sklearn, pc1_ae) < 0:\n",
        "    pc1_ae *= -1\n",
        "\n",
        "# Função para normalizar e remodelar para exibição\n",
        "def prep_for_display(pc_vector):\n",
        "    img = pc_vector.reshape(28, 28)\n",
        "    # Normalizar para o intervalo [0, 1] para visualização\n",
        "    img = (img - img.min()) / (img.max() - img.min())\n",
        "    return img\n",
        "\n",
        "img_sklearn = prep_for_display(pc1_sklearn)\n",
        "img_oja = prep_for_display(pc1_oja)\n",
        "img_ae = prep_for_display(pc1_ae)\n",
        "\n",
        "# Plotar os resultados\n",
        "fig, axes = plt.subplots(1, 3, figsize=(18, 6))\n",
        "\n",
        "axes[0].imshow(img_sklearn, cmap='gray')\n",
        "axes[0].set_title('PCA (Sklearn)')\n",
        "axes[0].axis('off')\n",
        "\n",
        "axes[1].imshow(img_oja, cmap='gray')\n",
        "axes[1].set_title('Regra de Oja')\n",
        "axes[1].axis('off')\n",
        "\n",
        "axes[2].imshow(img_ae, cmap='gray')\n",
        "axes[2].set_title('Autoencoder Linear')\n",
        "axes[2].axis('off')\n",
        "\n",
        "fig.suptitle('Primeiro Componente Principal dos Dígitos 9 e 1', fontsize=20)\n",
        "plt.show()"
      ]
    },
    {
      "cell_type": "markdown",
      "metadata": {
        "id": "Uqqlsu0XBICa"
      },
      "source": [
        "### Conclusão\n",
        "\n",
        "Como podemos ver, os três métodos, apesar de suas formulações muito diferentes (análise de matriz, regra de aprendizado local, otimização de custo global), convergem para a mesma solução fundamental! A imagem resultante representa a \"direção\" no espaço de 784 pixels que melhor captura a variação entre as imagens de '9' e '1'. As áreas brancas são onde os '1's têm pixels mais intensos, e as áreas escuras são onde os '9's são mais intensos."
      ]
    },
    {
      "cell_type": "code",
      "source": [],
      "metadata": {
        "id": "-4ZVxhvWCv-6"
      },
      "execution_count": null,
      "outputs": []
    },
    {
      "cell_type": "markdown",
      "metadata": {
        "id": "df311cec"
      },
      "source": []
    }
  ],
  "metadata": {
    "kernelspec": {
      "display_name": "Python 3",
      "language": "python",
      "name": "python3"
    },
    "language_info": {
      "codemirror_mode": {
        "name": "ipython",
        "version": 3
      },
      "file_extension": ".py",
      "mimetype": "text/x-python",
      "name": "python",
      "nbconvert_exporter": "python",
      "pygments_lexer": "ipython3",
      "version": "3.9.7"
    },
    "colab": {
      "provenance": []
    }
  },
  "nbformat": 4,
  "nbformat_minor": 0
}
